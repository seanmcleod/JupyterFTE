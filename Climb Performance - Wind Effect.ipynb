{
 "cells": [
  {
   "cell_type": "markdown",
   "id": "civic-transaction",
   "metadata": {},
   "source": [
    "# Climb Performance - Wind Effect"
   ]
  },
  {
   "cell_type": "code",
   "execution_count": 1,
   "id": "modern-checklist",
   "metadata": {},
   "outputs": [],
   "source": [
    "# import libraries\n",
    "from tabulate import tabulate\n",
    "import random\n",
    "import math\n",
    "import numpy as np"
   ]
  },
  {
   "cell_type": "code",
   "execution_count": 2,
   "id": "foster-string",
   "metadata": {},
   "outputs": [
    {
     "name": "stdout",
     "output_type": "stream",
     "text": [
      "+----------------+-----------------------------+--------------------+-------------------------------+\n",
      "|   Altitude [m] |   Climb Level Distance [km] |   Climb Time [min] |   Climb Fuel Consumption [kg] |\n",
      "+================+=============================+====================+===============================+\n",
      "|              0 |                         0   |               0    |                           0   |\n",
      "+----------------+-----------------------------+--------------------+-------------------------------+\n",
      "|           1000 |                         4.4 |               0.63 |                          36.6 |\n",
      "+----------------+-----------------------------+--------------------+-------------------------------+\n",
      "|           2000 |                         7.1 |               0.91 |                          51.9 |\n",
      "+----------------+-----------------------------+--------------------+-------------------------------+\n",
      "|           3000 |                        10.1 |               1.2  |                          67.1 |\n",
      "+----------------+-----------------------------+--------------------+-------------------------------+\n",
      "|           4000 |                        13.6 |               1.51 |                          82.5 |\n",
      "+----------------+-----------------------------+--------------------+-------------------------------+\n",
      "|           5000 |                        17.7 |               1.86 |                          98.1 |\n",
      "+----------------+-----------------------------+--------------------+-------------------------------+\n",
      "|           6000 |                        22.4 |               2.24 |                         114.2 |\n",
      "+----------------+-----------------------------+--------------------+-------------------------------+\n",
      "|           7000 |                        28.1 |               2.66 |                         130.7 |\n",
      "+----------------+-----------------------------+--------------------+-------------------------------+\n",
      "|           8000 |                        34.4 |               3.11 |                         146.7 |\n",
      "+----------------+-----------------------------+--------------------+-------------------------------+\n",
      "|           9000 |                        40.8 |               3.56 |                         161   |\n",
      "+----------------+-----------------------------+--------------------+-------------------------------+\n",
      "|          10000 |                        48.4 |               4.11 |                         175.6 |\n",
      "+----------------+-----------------------------+--------------------+-------------------------------+\n",
      "|          11000 |                        58.2 |               4.82 |                         191.8 |\n",
      "+----------------+-----------------------------+--------------------+-------------------------------+\n",
      "|          12000 |                        72.2 |               5.83 |                         211.4 |\n",
      "+----------------+-----------------------------+--------------------+-------------------------------+\n"
     ]
    }
   ],
   "source": [
    "# altitude [m], climb level dist [km], climb time [min], climb fuel [kg]\n",
    "\n",
    "# assign sample data\n",
    "data = [\n",
    "    [0, 0, 0, 0],\n",
    "    [1000, 4.4, 0.63, 36.6],\n",
    "    [2000, 7.1, 0.91, 51.9],\n",
    "    [3000, 10.1, 1.2, 67.1],\n",
    "    [4000, 13.6, 1.51, 82.5],\n",
    "    [5000, 17.7, 1.86, 98.1],\n",
    "    [6000, 22.4, 2.24, 114.2],\n",
    "    [7000, 28.1, 2.66, 130.7],\n",
    "    [8000, 34.4, 3.11, 146.7],\n",
    "    [9000, 40.8, 3.56, 161],\n",
    "    [10000, 48.4, 4.11, 175.6],\n",
    "    [11000, 58.2, 4.82, 191.8],\n",
    "    [12000, 72.2, 5.83, 211.4]\n",
    "]\n",
    "\n",
    "# assign table headings\n",
    "heading = [\"Altitude [m]\", \"Climb Level Distance [km]\", \"Climb Time [min]\", \"Climb Fuel Consumption [kg]\"]\n",
    "\n",
    "# display table\n",
    "print(tabulate(data, headers=heading, tablefmt=\"grid\"))"
   ]
  },
  {
   "cell_type": "markdown",
   "id": "champion-reality",
   "metadata": {},
   "source": [
    "## Varying Wind Vectors"
   ]
  },
  {
   "cell_type": "code",
   "execution_count": 3,
   "id": "married-graphic",
   "metadata": {},
   "outputs": [],
   "source": [
    "# set initial values\n",
    "wind_total = 0\n",
    "wind_counter = 0\n",
    "climb_lvl_total = 0\n",
    "data = np.array(data)\n",
    "\n",
    "# data value rows 0 to 13\n",
    "start = 0 # choose initial altitude\n",
    "final = 12 # choose final altitude\n",
    "i = start\n",
    "f = i + 1"
   ]
  },
  {
   "cell_type": "code",
   "execution_count": 4,
   "id": "daily-arena",
   "metadata": {},
   "outputs": [
    {
     "name": "stdout",
     "output_type": "stream",
     "text": [
      "\n",
      "Wind = -6.47\n",
      "Climb Level Distance (No Wind) = 4400.0\n",
      "Climb Level Distance with Wind = 4155.43\n",
      "\n",
      "\tTotal Climb Level Distance with Wind = 4155.43\n",
      "\n",
      "Wind = 5.35\n",
      "Climb Level Distance (No Wind) = 2700.0\n",
      "Climb Level Distance with Wind = 2789.88\n",
      "\n",
      "\tTotal Climb Level Distance with Wind = 6945.31\n",
      "\n",
      "Wind = -9.08\n",
      "Climb Level Distance (No Wind) = 3000.0\n",
      "Climb Level Distance with Wind = 2842.01\n",
      "\n",
      "\tTotal Climb Level Distance with Wind = 9787.32\n",
      "\n",
      "Wind = -20.21\n",
      "Climb Level Distance (No Wind) = 3500.0\n",
      "Climb Level Distance with Wind = 3124.09\n",
      "\n",
      "\tTotal Climb Level Distance with Wind = 12911.42\n",
      "\n",
      "Wind = -27.65\n",
      "Climb Level Distance (No Wind) = 4100.0\n",
      "Climb Level Distance with Wind = 3519.35\n",
      "\n",
      "\tTotal Climb Level Distance with Wind = 16430.77\n",
      "\n",
      "Wind = 17.75\n",
      "Climb Level Distance (No Wind) = 4700.0\n",
      "Climb Level Distance with Wind = 5104.7\n",
      "\n",
      "\tTotal Climb Level Distance with Wind = 21535.47\n",
      "\n",
      "Wind = -8.85\n",
      "Climb Level Distance (No Wind) = 5700.0\n",
      "Climb Level Distance with Wind = 5476.98\n",
      "\n",
      "\tTotal Climb Level Distance with Wind = 27012.45\n",
      "\n",
      "Wind = -21.6\n",
      "Climb Level Distance (No Wind) = 6300.0\n",
      "Climb Level Distance with Wind = 5716.8\n",
      "\n",
      "\tTotal Climb Level Distance with Wind = 32729.25\n",
      "\n",
      "Wind = -15.35\n",
      "Climb Level Distance (No Wind) = 6400.0\n",
      "Climb Level Distance with Wind = 5985.55\n",
      "\n",
      "\tTotal Climb Level Distance with Wind = 38714.8\n",
      "\n",
      "Wind = 11.52\n",
      "Climb Level Distance (No Wind) = 7600.0\n",
      "Climb Level Distance with Wind = 7980.16\n",
      "\n",
      "\tTotal Climb Level Distance with Wind = 46694.96\n",
      "\n",
      "Wind = 5.78\n",
      "Climb Level Distance (No Wind) = 9800.0\n",
      "Climb Level Distance with Wind = 10046.23\n",
      "\n",
      "\tTotal Climb Level Distance with Wind = 56741.18\n",
      "\n",
      "Wind = 2.17\n",
      "Climb Level Distance (No Wind) = 14000.0\n",
      "Climb Level Distance with Wind = 14131.5\n",
      "\n",
      "\tTotal Climb Level Distance with Wind = 70872.69\n",
      "\n",
      "\tTotal Climb Level Distance no Wind   = 72200.0\n"
     ]
    }
   ],
   "source": [
    "while final > i:\n",
    "    # generate random wind value\n",
    "    rand_wind = round(random.uniform(-30, 30), 2)\n",
    "    \n",
    "    # assign values from sample data\n",
    "    alt_gain = data[f,0] - data[i,0]\n",
    "    climb_lvl_dist = (data[f,1] - data[i,1])*1000\n",
    "    climb_time = (data[f,2] - data[i,2])*60\n",
    "    climb_fuel_use = data[f,3] - data[i,3]\n",
    "\n",
    "    # calculate velocity vectors and climb level distance with wind effect\n",
    "    Vx = climb_lvl_dist/climb_time\n",
    "    Vx_plus_wind = Vx + (rand_wind)\n",
    "    climb_lvl_dist_wind = Vx_plus_wind*climb_time\n",
    "    \n",
    "    # track total wind and climb level distance for average wind effect\n",
    "    climb_lvl_total += climb_lvl_dist_wind\n",
    "    wind_total += rand_wind\n",
    "    wind_counter += 1\n",
    "    i += 1\n",
    "    f += 1\n",
    "    \n",
    "    # display values\n",
    "    print(\"\\nWind =\", round(rand_wind, 2))\n",
    "    print(\"Climb Level Distance (No Wind) =\", round(climb_lvl_dist, 2))\n",
    "    print(\"Climb Level Distance with Wind =\", round(climb_lvl_dist_wind, 2))\n",
    "        \n",
    "    print(\"\\n\\tTotal Climb Level Distance with Wind =\", round(climb_lvl_total, 2)) \n",
    "    \n",
    "# Climb level distance with no wind\n",
    "print(\"\\n\\tTotal Climb Level Distance no Wind   =\", round((data[final,1] - data[start,1]) * 1000, 2)) "
   ]
  },
  {
   "cell_type": "markdown",
   "id": "interim-short",
   "metadata": {},
   "source": [
    "## Average Wind Vector"
   ]
  },
  {
   "cell_type": "code",
   "execution_count": 5,
   "id": "designing-russell",
   "metadata": {},
   "outputs": [
    {
     "name": "stdout",
     "output_type": "stream",
     "text": [
      "Wind Average = -5.55\n",
      "Climb Level Distance (No Wind) = 72200.0\n",
      "\n",
      "\tAverage Climb Level Distance = 70257.44\n"
     ]
    }
   ],
   "source": [
    "# calculate average wind\n",
    "wind_ave = wind_total/wind_counter\n",
    "\n",
    "# assign start and final values from sample data\n",
    "alt_gain = data[final,0] - data[start,0]\n",
    "climb_lvl_dist = (data[final,1] - data[start,1])*1000\n",
    "climb_time = (data[final,2] - data[start,2])*60\n",
    "climb_fuel_use = data[final,3] - data[start,3]\n",
    "\n",
    "# calculate velocity vectors and climb level distance with average wind effect\n",
    "Vx = climb_lvl_dist/climb_time\n",
    "Vx_plus_wind = Vx + wind_ave\n",
    "climb_lvl_ave = Vx_plus_wind*climb_time\n",
    "\n",
    "# display values\n",
    "print(\"Wind Average =\", round(wind_ave, 2))\n",
    "print(\"Climb Level Distance (No Wind) =\", round(climb_lvl_dist, 2))\n",
    "print(\"\\n\\tAverage Climb Level Distance =\", round(climb_lvl_ave, 2))"
   ]
  },
  {
   "cell_type": "markdown",
   "id": "boolean-outside",
   "metadata": {},
   "source": [
    "## Comparison"
   ]
  },
  {
   "cell_type": "code",
   "execution_count": 6,
   "id": "forced-affiliate",
   "metadata": {},
   "outputs": [
    {
     "name": "stdout",
     "output_type": "stream",
     "text": [
      "Average wind climb level distance   =  70257.44\n",
      "Per level wind climb level distance =  70872.69\n",
      "\n",
      "Difference =  615.24\n",
      "Ratio % = 99.13190534361856\n"
     ]
    }
   ],
   "source": [
    "# difference in varying and average wind\n",
    "\n",
    "print(\"Average wind climb level distance   = \", round(climb_lvl_ave, 2))\n",
    "print(\"Per level wind climb level distance = \", round(climb_lvl_total, 2))\n",
    "\n",
    "print(\"\\nDifference = \", round(abs(climb_lvl_ave - climb_lvl_total) , 2))\n",
    "ratio = climb_lvl_ave/climb_lvl_total\n",
    "print(\"Ratio % =\", ratio*100)"
   ]
  },
  {
   "cell_type": "markdown",
   "id": "eight-jewelry",
   "metadata": {},
   "source": [
    "A maximum difference of 1.5% was found."
   ]
  },
  {
   "cell_type": "code",
   "execution_count": null,
   "id": "wooden-found",
   "metadata": {},
   "outputs": [],
   "source": []
  }
 ],
 "metadata": {
  "kernelspec": {
   "display_name": "Python 3 (ipykernel)",
   "language": "python",
   "name": "python3"
  },
  "language_info": {
   "codemirror_mode": {
    "name": "ipython",
    "version": 3
   },
   "file_extension": ".py",
   "mimetype": "text/x-python",
   "name": "python",
   "nbconvert_exporter": "python",
   "pygments_lexer": "ipython3",
   "version": "3.9.12"
  }
 },
 "nbformat": 4,
 "nbformat_minor": 5
}
