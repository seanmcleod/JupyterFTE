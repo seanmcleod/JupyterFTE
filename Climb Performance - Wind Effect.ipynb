{
 "cells": [
  {
   "cell_type": "markdown",
   "id": "civic-transaction",
   "metadata": {},
   "source": [
    "# Climb Performance - Wind Effect"
   ]
  },
  {
   "cell_type": "code",
   "execution_count": 19,
   "id": "modern-checklist",
   "metadata": {},
   "outputs": [],
   "source": [
    "# import libraries\n",
    "from tabulate import tabulate\n",
    "import random\n",
    "import math\n",
    "import numpy as np"
   ]
  },
  {
   "cell_type": "code",
   "execution_count": 20,
   "id": "foster-string",
   "metadata": {},
   "outputs": [
    {
     "name": "stdout",
     "output_type": "stream",
     "text": [
      "+----------------+-----------------------------+--------------------+-------------------------------+\n",
      "|   Altitude [m] |   Climb Level Distance [km] |   Climb Time [min] |   Climb Fuel Consumption [kg] |\n",
      "+================+=============================+====================+===============================+\n",
      "|              0 |                         0   |               0    |                           0   |\n",
      "+----------------+-----------------------------+--------------------+-------------------------------+\n",
      "|            500 |                         3.1 |               0.49 |                          28.1 |\n",
      "+----------------+-----------------------------+--------------------+-------------------------------+\n",
      "|           1000 |                         4.4 |               0.63 |                          36.6 |\n",
      "+----------------+-----------------------------+--------------------+-------------------------------+\n",
      "|           2000 |                         7.1 |               0.91 |                          51.9 |\n",
      "+----------------+-----------------------------+--------------------+-------------------------------+\n",
      "|           3000 |                        10.1 |               1.2  |                          67.1 |\n",
      "+----------------+-----------------------------+--------------------+-------------------------------+\n",
      "|           4000 |                        13.6 |               1.51 |                          82.5 |\n",
      "+----------------+-----------------------------+--------------------+-------------------------------+\n",
      "|           5000 |                        17.7 |               1.86 |                          98.1 |\n",
      "+----------------+-----------------------------+--------------------+-------------------------------+\n",
      "|           6000 |                        22.4 |               2.24 |                         114.2 |\n",
      "+----------------+-----------------------------+--------------------+-------------------------------+\n",
      "|           7000 |                        28.1 |               2.66 |                         130.7 |\n",
      "+----------------+-----------------------------+--------------------+-------------------------------+\n",
      "|           8000 |                        34.4 |               3.11 |                         146.7 |\n",
      "+----------------+-----------------------------+--------------------+-------------------------------+\n",
      "|           9000 |                        40.8 |               3.56 |                         161   |\n",
      "+----------------+-----------------------------+--------------------+-------------------------------+\n",
      "|          10000 |                        48.4 |               4.11 |                         175.6 |\n",
      "+----------------+-----------------------------+--------------------+-------------------------------+\n",
      "|          11000 |                        58.2 |               4.82 |                         191.8 |\n",
      "+----------------+-----------------------------+--------------------+-------------------------------+\n",
      "|          12000 |                        72.2 |               5.83 |                         211.4 |\n",
      "+----------------+-----------------------------+--------------------+-------------------------------+\n"
     ]
    }
   ],
   "source": [
    "# altitude [m], climb level dist [km], climb time [min], climb fuel [kg]\n",
    "\n",
    "# assign sample data\n",
    "data = [\n",
    "    [0, 0, 0, 0],\n",
    "    [500, 3.1, 0.49, 28.1],\n",
    "    [1000, 4.4, 0.63, 36.6],\n",
    "    [2000, 7.1, 0.91, 51.9],\n",
    "    [3000, 10.1, 1.2, 67.1],\n",
    "    [4000, 13.6, 1.51, 82.5],\n",
    "    [5000, 17.7, 1.86, 98.1],\n",
    "    [6000, 22.4, 2.24, 114.2],\n",
    "    [7000, 28.1, 2.66, 130.7],\n",
    "    [8000, 34.4, 3.11, 146.7],\n",
    "    [9000, 40.8, 3.56, 161],\n",
    "    [10000, 48.4, 4.11, 175.6],\n",
    "    [11000, 58.2, 4.82, 191.8],\n",
    "    [12000, 72.2, 5.83, 211.4]\n",
    "]\n",
    "\n",
    "# assign table headings\n",
    "heading = [\"Altitude [m]\", \"Climb Level Distance [km]\", \"Climb Time [min]\", \"Climb Fuel Consumption [kg]\"]\n",
    "\n",
    "# display table\n",
    "print(tabulate(data, headers=heading, tablefmt=\"grid\"))"
   ]
  },
  {
   "cell_type": "markdown",
   "id": "champion-reality",
   "metadata": {},
   "source": [
    "## Varying Wind Vectors"
   ]
  },
  {
   "cell_type": "code",
   "execution_count": 21,
   "id": "married-graphic",
   "metadata": {},
   "outputs": [],
   "source": [
    "# set initial values\n",
    "wind_total = 0\n",
    "wind_counter = 0\n",
    "climb_lvl_total = 0\n",
    "data = np.array(data)\n",
    "\n",
    "# data value rows 0 to 13\n",
    "start = 0 # choose initial altitude\n",
    "final = 13 # choose final altitude\n",
    "i = start\n",
    "f = i + 1"
   ]
  },
  {
   "cell_type": "code",
   "execution_count": 22,
   "id": "daily-arena",
   "metadata": {},
   "outputs": [
    {
     "name": "stdout",
     "output_type": "stream",
     "text": [
      "\n",
      "Wind = 19.05\n",
      "Climb Level Distance (No Wind) = 3100.0\n",
      "Climb Level Distance with Wind = 3660.07\n",
      "\n",
      "\tTotal Climb Level Distance with Wind = 3660.07\n",
      "\n",
      "Wind = 28.97\n",
      "Climb Level Distance (No Wind) = 1300.0\n",
      "Climb Level Distance with Wind = 1543.35\n",
      "\n",
      "\tTotal Climb Level Distance with Wind = 5203.42\n",
      "\n",
      "Wind = 25.0\n",
      "Climb Level Distance (No Wind) = 2700.0\n",
      "Climb Level Distance with Wind = 3120.0\n",
      "\n",
      "\tTotal Climb Level Distance with Wind = 8323.42\n",
      "\n",
      "Wind = -3.03\n",
      "Climb Level Distance (No Wind) = 3000.0\n",
      "Climb Level Distance with Wind = 2947.28\n",
      "\n",
      "\tTotal Climb Level Distance with Wind = 11270.7\n",
      "\n",
      "Wind = 26.44\n",
      "Climb Level Distance (No Wind) = 3500.0\n",
      "Climb Level Distance with Wind = 3991.78\n",
      "\n",
      "\tTotal Climb Level Distance with Wind = 15262.48\n",
      "\n",
      "Wind = -13.61\n",
      "Climb Level Distance (No Wind) = 4100.0\n",
      "Climb Level Distance with Wind = 3814.19\n",
      "\n",
      "\tTotal Climb Level Distance with Wind = 19076.67\n",
      "\n",
      "Wind = 11.12\n",
      "Climb Level Distance (No Wind) = 4700.0\n",
      "Climb Level Distance with Wind = 4953.54\n",
      "\n",
      "\tTotal Climb Level Distance with Wind = 24030.21\n",
      "\n",
      "Wind = 13.55\n",
      "Climb Level Distance (No Wind) = 5700.0\n",
      "Climb Level Distance with Wind = 6041.46\n",
      "\n",
      "\tTotal Climb Level Distance with Wind = 30071.67\n",
      "\n",
      "Wind = -0.71\n",
      "Climb Level Distance (No Wind) = 6300.0\n",
      "Climb Level Distance with Wind = 6280.83\n",
      "\n",
      "\tTotal Climb Level Distance with Wind = 36352.5\n",
      "\n",
      "Wind = -20.5\n",
      "Climb Level Distance (No Wind) = 6400.0\n",
      "Climb Level Distance with Wind = 5846.5\n",
      "\n",
      "\tTotal Climb Level Distance with Wind = 42199.0\n",
      "\n",
      "Wind = -3.3\n",
      "Climb Level Distance (No Wind) = 7600.0\n",
      "Climb Level Distance with Wind = 7491.1\n",
      "\n",
      "\tTotal Climb Level Distance with Wind = 49690.1\n",
      "\n",
      "Wind = 9.68\n",
      "Climb Level Distance (No Wind) = 9800.0\n",
      "Climb Level Distance with Wind = 10212.37\n",
      "\n",
      "\tTotal Climb Level Distance with Wind = 59902.46\n",
      "\n",
      "Wind = 2.94\n",
      "Climb Level Distance (No Wind) = 14000.0\n",
      "Climb Level Distance with Wind = 14178.16\n",
      "\n",
      "\tTotal Climb Level Distance with Wind = 74080.63\n"
     ]
    }
   ],
   "source": [
    "while final > i:\n",
    "    # generate random wind value\n",
    "    rand_wind = round(random.uniform(-30, 30), 2)\n",
    "    \n",
    "    # assign values from sample data\n",
    "    alt_gain = data[f,0] - data[i,0]\n",
    "    climb_lvl_dist = (data[f,1] - data[i,1])*1000\n",
    "    climb_time = (data[f,2] - data[i,2])*60\n",
    "    climb_fuel_use = data[f,3] - data[i,3]\n",
    "\n",
    "    # calculate velocity vectors and climb level distance with wind effect\n",
    "    Vx = climb_lvl_dist/climb_time\n",
    "    Vx_plus_wind = Vx + (rand_wind)\n",
    "    climb_lvl_dist_wind = Vx_plus_wind*climb_time\n",
    "    \n",
    "    # track total wind and climb level distance for average wind effect\n",
    "    climb_lvl_total += climb_lvl_dist_wind\n",
    "    wind_total += rand_wind\n",
    "    wind_counter += 1\n",
    "    i += 1\n",
    "    f += 1\n",
    "    \n",
    "    # display values\n",
    "    print(\"\\nWind =\", round(rand_wind, 2))\n",
    "    print(\"Climb Level Distance (No Wind) =\", round(climb_lvl_dist, 2))\n",
    "    print(\"Climb Level Distance with Wind =\", round(climb_lvl_dist_wind, 2))\n",
    "    print(\"\\n\\tTotal Climb Level Distance with Wind =\", round(climb_lvl_total, 2)) "
   ]
  },
  {
   "cell_type": "markdown",
   "id": "interim-short",
   "metadata": {},
   "source": [
    "## Average Wind Vector"
   ]
  },
  {
   "cell_type": "code",
   "execution_count": 23,
   "id": "designing-russell",
   "metadata": {},
   "outputs": [
    {
     "name": "stdout",
     "output_type": "stream",
     "text": [
      "Wind Average = 7.35\n",
      "Climb Level Distance (No Wind) = 72200.0\n",
      "\n",
      "\tAverage Climb Level Distance = 74772.38\n"
     ]
    }
   ],
   "source": [
    "# calculate average wind\n",
    "wind_ave = wind_total/wind_counter\n",
    "\n",
    "# assign start and final values from sample data\n",
    "alt_gain = data[final,0] - data[start,0]\n",
    "climb_lvl_dist = (data[final,1] - data[start,1])*1000\n",
    "climb_time = (data[final,2] - data[start,2])*60\n",
    "climb_fuel_use = data[final,3] - data[start,3]\n",
    "\n",
    "# calculate velocity vectors and climb level distance with average wind effect\n",
    "Vx = climb_lvl_dist/climb_time\n",
    "Vx_plus_wind = Vx + wind_ave\n",
    "climb_lvl_ave = Vx_plus_wind*climb_time\n",
    "\n",
    "# display values\n",
    "print(\"Wind Average =\", round(wind_ave, 2))\n",
    "print(\"Climb Level Distance (No Wind) =\", round(climb_lvl_dist, 2))\n",
    "print(\"\\n\\tAverage Climb Level Distance =\", round(climb_lvl_ave, 2))"
   ]
  },
  {
   "cell_type": "markdown",
   "id": "boolean-outside",
   "metadata": {},
   "source": [
    "## Comparison"
   ]
  },
  {
   "cell_type": "code",
   "execution_count": 24,
   "id": "forced-affiliate",
   "metadata": {},
   "outputs": [
    {
     "name": "stdout",
     "output_type": "stream",
     "text": [
      "Ratio % = 100.93377635056682\n"
     ]
    }
   ],
   "source": [
    "# difference in varying and average wind\n",
    "ratio = climb_lvl_ave/climb_lvl_total\n",
    "print(\"Ratio % =\", ratio*100)"
   ]
  },
  {
   "cell_type": "markdown",
   "id": "eight-jewelry",
   "metadata": {},
   "source": [
    "A maximum difference of 1.5% was found."
   ]
  },
  {
   "cell_type": "code",
   "execution_count": null,
   "id": "wooden-found",
   "metadata": {},
   "outputs": [],
   "source": []
  }
 ],
 "metadata": {
  "kernelspec": {
   "display_name": "Python 3",
   "language": "python",
   "name": "python3"
  },
  "language_info": {
   "codemirror_mode": {
    "name": "ipython",
    "version": 3
   },
   "file_extension": ".py",
   "mimetype": "text/x-python",
   "name": "python",
   "nbconvert_exporter": "python",
   "pygments_lexer": "ipython3",
   "version": "3.8.5"
  }
 },
 "nbformat": 4,
 "nbformat_minor": 5
}
